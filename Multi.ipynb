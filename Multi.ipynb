{
 "cells": [
  {
   "cell_type": "code",
   "execution_count": 1,
   "id": "12b378e1",
   "metadata": {
    "scrolled": true
   },
   "outputs": [
    {
     "name": "stderr",
     "output_type": "stream",
     "text": [
      "Downloading: \"https://github.com/ultralytics/yolov5/zipball/master\" to C:\\Users\\ADMIN/.cache\\torch\\hub\\master.zip\n",
      "YOLOv5  2023-4-13 Python-3.10.9 torch-2.0.0+cpu CPU\n",
      "\n",
      "Fusing layers... \n",
      "Model summary: 157 layers, 7055974 parameters, 0 gradients\n",
      "Adding AutoShape... \n"
     ]
    },
    {
     "name": "stdout",
     "output_type": "stream",
     "text": [
      "pygame 2.3.0 (SDL 2.24.2, Python 3.10.9)\n",
      "Hello from the pygame community. https://www.pygame.org/contribute.html\n"
     ]
    }
   ],
   "source": [
    "from multiprocessing import Process, Queue\n",
    "from ipynb.fs.full.Drowsiness import *\n",
    "from ipynb.fs.full.Car import *\n",
    "import sys\n",
    "\n",
    "s1= Stage1()\n",
    "s2= Stage2()\n",
    "\n",
    "# S1 to S2 communication\n",
    "queueS1 = Queue()  # s1.stage1() writes to queueS1\n",
    "\n",
    "# S2 to S1 communication\n",
    "queueS2 = Queue()  # s2.stage2() writes to queueS2\n",
    "\n",
    "# start s2 as another process\n",
    "s2 = Process(target=s2.car_run, args=(queueS1,queueS2))\n",
    "s2.daemon = True\n",
    "s2.start()     # Launch the stage2 process\n",
    "\n",
    "s1.webcam(queueS1, queueS2) # start sending stuff from s1 to s2 \n",
    "s2.join() # wait till s2 daemon finishes"
   ]
  },
  {
   "cell_type": "code",
   "execution_count": null,
   "id": "608cf1be",
   "metadata": {},
   "outputs": [],
   "source": []
  }
 ],
 "metadata": {
  "kernelspec": {
   "display_name": "Python 3 (ipykernel)",
   "language": "python",
   "name": "python3"
  },
  "language_info": {
   "codemirror_mode": {
    "name": "ipython",
    "version": 3
   },
   "file_extension": ".py",
   "mimetype": "text/x-python",
   "name": "python",
   "nbconvert_exporter": "python",
   "pygments_lexer": "ipython3",
   "version": "3.10.9"
  }
 },
 "nbformat": 4,
 "nbformat_minor": 5
}
